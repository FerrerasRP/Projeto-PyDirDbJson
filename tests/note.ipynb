{
 "cells": [
  {
   "cell_type": "code",
   "execution_count": 1,
   "id": "02f04214",
   "metadata": {},
   "outputs": [],
   "source": [
    "import sys\n",
    "import os\n",
    "\n",
    "# Get the directory of the current script\n",
    "current_dir = os.path.dirname(os.path.abspath('note.ipynb'))\n",
    "# Add the project root directory to the Python path\n",
    "project_root = os.path.join(current_dir, \"..\")  # Adjust \"..\" based on your structure\n",
    "sys.path.insert(0, project_root)\n",
    "\n"
   ]
  },
  {
   "cell_type": "code",
   "execution_count": 2,
   "id": "ba8a0793",
   "metadata": {},
   "outputs": [],
   "source": [
    "from pydirdbjson import Pydirdbjson"
   ]
  },
  {
   "cell_type": "code",
   "execution_count": 5,
   "id": "7af0625c",
   "metadata": {},
   "outputs": [],
   "source": [
    "db = Pydirdbjson('my_database')"
   ]
  },
  {
   "cell_type": "code",
   "execution_count": null,
   "id": "689dff2f",
   "metadata": {},
   "outputs": [],
   "source": [
    "\n",
    "\n",
    "db.create_table('users')\n",
    "db.insert('users', '1', {'name': 'John', 'age': 30, 'city': 'São Paulo'})\n",
    "db.insert('users', '2', {'name': 'Mary', 'age': 25, 'city': 'Rio de Janeiro'})\n",
    "\n",
    "db.create_table('customers')\n",
    "db.insert('customers', '1', {'name': 'ABC'})\n",
    "db.insert('customers', '2', {'name': 'XWZ'})\n",
    "\n",
    "db.create_table('permissions')\n",
    "db.insert('permissions', '1', {'user': '1', 'customer': '1'})\n",
    "db.insert('permissions', '2', {'user': '1', 'customer': '2'})\n",
    "db.insert('permissions', '3', {'user': '2', 'customer': '2'})"
   ]
  },
  {
   "cell_type": "code",
   "execution_count": 4,
   "id": "89827203",
   "metadata": {},
   "outputs": [
    {
     "ename": "NameError",
     "evalue": "name 'db' is not defined",
     "output_type": "error",
     "traceback": [
      "\u001b[31m---------------------------------------------------------------------------\u001b[39m",
      "\u001b[31mNameError\u001b[39m                                 Traceback (most recent call last)",
      "\u001b[36mCell\u001b[39m\u001b[36m \u001b[39m\u001b[32mIn[4]\u001b[39m\u001b[32m, line 1\u001b[39m\n\u001b[32m----> \u001b[39m\u001b[32m1\u001b[39m \u001b[38;5;28mprint\u001b[39m(\u001b[43mdb\u001b[49m.query_by_key_value(\u001b[33m'\u001b[39m\u001b[33mpermissions\u001b[39m\u001b[33m'\u001b[39m, \u001b[33m'\u001b[39m\u001b[33mcustomer\u001b[39m\u001b[33m'\u001b[39m, \u001b[33m'\u001b[39m\u001b[33m1\u001b[39m\u001b[33m'\u001b[39m))\n",
      "\u001b[31mNameError\u001b[39m: name 'db' is not defined"
     ]
    }
   ],
   "source": [
    "print(db.query_by_key_value('permissions', 'customer', '1'))"
   ]
  },
  {
   "cell_type": "code",
   "execution_count": 6,
   "id": "4078ef93",
   "metadata": {},
   "outputs": [
    {
     "data": {
      "text/plain": [
       "'1.0.0'"
      ]
     },
     "execution_count": 6,
     "metadata": {},
     "output_type": "execute_result"
    }
   ],
   "source": [
    "Pydirdbjson.__version__"
   ]
  },
  {
   "cell_type": "code",
   "execution_count": null,
   "id": "5b5e8ce5",
   "metadata": {},
   "outputs": [],
   "source": []
  }
 ],
 "metadata": {
  "kernelspec": {
   "display_name": "projeto-pydirdbjson",
   "language": "python",
   "name": "python3"
  },
  "language_info": {
   "codemirror_mode": {
    "name": "ipython",
    "version": 3
   },
   "file_extension": ".py",
   "mimetype": "text/x-python",
   "name": "python",
   "nbconvert_exporter": "python",
   "pygments_lexer": "ipython3",
   "version": "3.13.3"
  }
 },
 "nbformat": 4,
 "nbformat_minor": 5
}
