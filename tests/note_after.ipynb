{
 "cells": [
  {
   "cell_type": "code",
   "execution_count": null,
   "id": "b7f8ef53",
   "metadata": {},
   "outputs": [],
   "source": [
    "from pydirdbjson import Pydirdbjson"
   ]
  },
  {
   "cell_type": "code",
   "execution_count": null,
   "id": "524a90ef",
   "metadata": {},
   "outputs": [],
   "source": [
    "print(Pydirdbjson.__version__)"
   ]
  },
  {
   "cell_type": "code",
   "execution_count": 1,
   "id": "5921703b",
   "metadata": {},
   "outputs": [],
   "source": [
    "import pydirdbjson "
   ]
  },
  {
   "cell_type": "code",
   "execution_count": 2,
   "id": "386b7129",
   "metadata": {},
   "outputs": [
    {
     "data": {
      "text/plain": [
       "'1.0.1'"
      ]
     },
     "execution_count": 2,
     "metadata": {},
     "output_type": "execute_result"
    }
   ],
   "source": [
    "pydirdbjson.__version__"
   ]
  },
  {
   "cell_type": "code",
   "execution_count": null,
   "id": "ab54f7a0",
   "metadata": {},
   "outputs": [],
   "source": []
  }
 ],
 "metadata": {
  "kernelspec": {
   "display_name": "projeto-pydirdbjson",
   "language": "python",
   "name": "python3"
  },
  "language_info": {
   "codemirror_mode": {
    "name": "ipython",
    "version": 3
   },
   "file_extension": ".py",
   "mimetype": "text/x-python",
   "name": "python",
   "nbconvert_exporter": "python",
   "pygments_lexer": "ipython3",
   "version": "3.13.3"
  }
 },
 "nbformat": 4,
 "nbformat_minor": 5
}
